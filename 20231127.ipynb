{
  "nbformat": 4,
  "nbformat_minor": 0,
  "metadata": {
    "colab": {
      "provenance": [],
      "authorship_tag": "ABX9TyP7gKIdQULla6uDIIPwgSgu",
      "include_colab_link": true
    },
    "kernelspec": {
      "name": "python3",
      "display_name": "Python 3"
    },
    "language_info": {
      "name": "python"
    }
  },
  "cells": [
    {
      "cell_type": "markdown",
      "metadata": {
        "id": "view-in-github",
        "colab_type": "text"
      },
      "source": [
        "<a href=\"https://colab.research.google.com/github/wnyngj/DT-/blob/main/20231127.ipynb\" target=\"_parent\"><img src=\"https://colab.research.google.com/assets/colab-badge.svg\" alt=\"Open In Colab\"/></a>"
      ]
    },
    {
      "cell_type": "markdown",
      "source": [
        "##자료형"
      ],
      "metadata": {
        "id": "oy35GZVquedN"
      }
    },
    {
      "cell_type": "code",
      "execution_count": 1,
      "metadata": {
        "id": "GkOdI8hTZzSo",
        "colab": {
          "base_uri": "https://localhost:8080/"
        },
        "outputId": "515d22ca-f165-49ee-cefd-489c5d08e767"
      },
      "outputs": [
        {
          "output_type": "execute_result",
          "data": {
            "text/plain": [
              "('Titanic', 'James')"
            ]
          },
          "metadata": {},
          "execution_count": 1
        }
      ],
      "source": [
        "# Q. \"TitanicJames\" 변수를 영화제목(title)과 감독(director)으로 슬라이싱 해보세요.\n",
        "\n",
        "movie='TitanicJames'\n",
        "\n",
        "title=movie[0:7]\n",
        "dir=movie[7:13]\n",
        "\n",
        "title,dir"
      ]
    },
    {
      "cell_type": "code",
      "source": [
        "#f-string 문법\n",
        "name='david'\n",
        "age=30\n",
        "city='seoul'\n",
        "\n",
        "print(f\"이름:{name}, 나이:{age}, 사는 곳:{city}\")"
      ],
      "metadata": {
        "colab": {
          "base_uri": "https://localhost:8080/"
        },
        "id": "02dbjAMfc6nO",
        "outputId": "db3261ae-0a82-4aa5-ca41-45799d51f167"
      },
      "execution_count": 2,
      "outputs": [
        {
          "output_type": "stream",
          "name": "stdout",
          "text": [
            "이름:david, 나이:30, 사는 곳:seoul\n"
          ]
        }
      ]
    },
    {
      "cell_type": "code",
      "source": [
        "#3 리스트형 List\n",
        "# 변수를 한 곳에 담아두기 위함\n",
        "data=['a','b','c']\n",
        "data\n",
        "\n",
        "#indexing & slicing\n",
        "data[2]\n",
        "data[0:2]\n",
        "\n",
        "data=['a','b','c',['d','e']]\n",
        "#divide and conquer\n",
        "data[3][0]"
      ],
      "metadata": {
        "colab": {
          "base_uri": "https://localhost:8080/",
          "height": 35
        },
        "id": "SPYBbo16dToA",
        "outputId": "cd716ce6-c94b-475a-c315-86d25e1cbf07"
      },
      "execution_count": 6,
      "outputs": [
        {
          "output_type": "execute_result",
          "data": {
            "text/plain": [
              "'d'"
            ],
            "application/vnd.google.colaboratory.intrinsic+json": {
              "type": "string"
            }
          },
          "metadata": {},
          "execution_count": 6
        }
      ]
    },
    {
      "cell_type": "code",
      "source": [
        "#4 bool형\n",
        "# True or False\n",
        "\n",
        "type(True)\n",
        "1<5\n",
        "\n",
        "#1+'1' 문자열과 숫자형 연산 불가 둘 중 하나를 선택하기\n"
      ],
      "metadata": {
        "colab": {
          "base_uri": "https://localhost:8080/"
        },
        "id": "4hAC5WQbeFV8",
        "outputId": "bea253dc-b92e-4f02-a089-41d3db4c1f23"
      },
      "execution_count": 8,
      "outputs": [
        {
          "output_type": "execute_result",
          "data": {
            "text/plain": [
              "True"
            ]
          },
          "metadata": {},
          "execution_count": 8
        }
      ]
    },
    {
      "cell_type": "markdown",
      "source": [
        "##제어문\n",
        "\n",
        "1. if 제어문\n",
        "2. for 반복문"
      ],
      "metadata": {
        "id": "_-eAHdzXfkNX"
      }
    },
    {
      "cell_type": "code",
      "source": [
        "#if 조건문\n",
        "#만약에...\n",
        "\n",
        "a=11\n",
        "\n",
        "if a<5:\n",
        "  print(\"숫자가 5보다 작습니다\")\n",
        "elif a<10:\n",
        "  print(\"숫자가 10보다 큽니다\")\n",
        "else:\n",
        "  print('숫자가 10보다 큽니다')\n",
        "\n",
        ""
      ],
      "metadata": {
        "id": "f5R0siSqfmBe",
        "outputId": "340e907a-8ddd-4997-d9c6-ce928e610eb2",
        "colab": {
          "base_uri": "https://localhost:8080/"
        }
      },
      "execution_count": 10,
      "outputs": [
        {
          "output_type": "stream",
          "name": "stdout",
          "text": [
            "숫자가 10보다 큽니다\n"
          ]
        }
      ]
    },
    {
      "cell_type": "code",
      "source": [
        "a=1\n",
        "a==2\n",
        "a!=2"
      ],
      "metadata": {
        "id": "aR-4wmiRhYzv",
        "outputId": "9083ffd0-456d-4bef-a0dc-d53595f91bdd",
        "colab": {
          "base_uri": "https://localhost:8080/"
        }
      },
      "execution_count": 12,
      "outputs": [
        {
          "output_type": "execute_result",
          "data": {
            "text/plain": [
              "True"
            ]
          },
          "metadata": {},
          "execution_count": 12
        }
      ]
    },
    {
      "cell_type": "code",
      "source": [
        "from ast import MatchSingleton\n",
        "# 서울에서 부산을 간다고 가정하에 나의 주머니에 있는\n",
        "# 돈(money)에 따른 조건문\n",
        "\n",
        "# if => 7만원 있으면 비행기를 타고 (money==70000))\n",
        "# elif => 5만원 있으면 기차를 타고\n",
        "# elif => 3만원 있으면 버스를 타고\n",
        "# else => 걸어간다.\n",
        "\n",
        "money=60000\n",
        "if money==70000:\n",
        "  print('비행기 타기')\n",
        "elif money>50000:\n",
        "  print('기차 타기')\n",
        "elif money>30000:\n",
        "  print('버스 타기')\n",
        "else:\n",
        "  print('걸어가기')\n",
        "\n",
        "#강사님 답안\n",
        "money=int(input(\"현재 주머니가 얼마가 있으십니까?\"))\n",
        "card=True\n",
        "\n",
        "if money == 70000 or card==True:\n",
        "  print(\"비행기를 타시오.\")\n",
        "elif money==60000:\n",
        "  print(\"기차를 타시오\")\n",
        "elif money == 30000:\n",
        "  print(\"버스를 타시오.\")\n",
        "else:\n",
        "  print(\"걸어가시오.\")"
      ],
      "metadata": {
        "id": "RfAMHccEhu_d",
        "outputId": "69862e2d-74bc-45a1-f519-9739af481b6b",
        "colab": {
          "base_uri": "https://localhost:8080/"
        }
      },
      "execution_count": 13,
      "outputs": [
        {
          "output_type": "stream",
          "name": "stdout",
          "text": [
            "기차 타기\n"
          ]
        }
      ]
    },
    {
      "cell_type": "code",
      "source": [
        "#for (반복문)\n",
        "#range(10): 0부터 9까지의 숫자를 의미합니다\n",
        "\n",
        "for i in range(10):\n",
        "  print(\"hello python\", i)\n",
        "for i in range(1,9):\n",
        "  print(\"hello python\", i)\n",
        "\n",
        "cities=['seoul','dajeon','daegu','busan']\n",
        "for i in cities:\n",
        "  if i=='seoul':\n",
        "    print(\"남산타워에 가보세요\")\n"
      ],
      "metadata": {
        "id": "xwPHzgJomqAD"
      },
      "execution_count": null,
      "outputs": []
    },
    {
      "cell_type": "code",
      "source": [
        "for i in \"python\":\n",
        "  print(i)\n",
        "else:\n",
        "  print(\"반복문이 종료되었습니다.\")"
      ],
      "metadata": {
        "id": "o9EP0N0ToAiH"
      },
      "execution_count": null,
      "outputs": []
    },
    {
      "cell_type": "code",
      "source": [
        "#break & continue\n",
        "for i in range(10):\n",
        "  if 3<=i<=5:\n",
        "    print(\"조건문\",i)\n",
        "    #break #반복문을 종료시켜\n",
        "    continue #해당 반복문은 여기까지만 실행해줘 그리고 다음 반복문 횟수로 넘어가\n",
        "  print(i)"
      ],
      "metadata": {
        "id": "qbgEzZ0yoa92",
        "outputId": "4e21f5cd-91ae-4653-b063-331503ca709c",
        "colab": {
          "base_uri": "https://localhost:8080/"
        }
      },
      "execution_count": 24,
      "outputs": [
        {
          "output_type": "stream",
          "name": "stdout",
          "text": [
            "0\n",
            "1\n",
            "2\n",
            "조건문 3\n",
            "조건문 4\n",
            "조건문 5\n",
            "6\n",
            "7\n",
            "8\n",
            "9\n"
          ]
        }
      ]
    },
    {
      "cell_type": "code",
      "source": [
        "#구구단 전체를 표현하시오\n",
        "#유저가 입력한 특정 구구단을 표현하시오\n",
        "for i in range(1,10):\n",
        "  print(i,'단 입니다.')\n",
        "  for j in range(1,10):\n",
        "    print(f\"{i}*{j}={i*j}\")"
      ],
      "metadata": {
        "id": "zxWhlSE3pcJn"
      },
      "execution_count": null,
      "outputs": []
    },
    {
      "cell_type": "code",
      "source": [
        "num=int(input(\"단을 입력하시오: \"))\n",
        "\n",
        "for i in range(1,10):\n",
        "  print(i,'단 입니다.')\n",
        "  if num==i:\n",
        "    for j in range(1,10):\n",
        "     print(f\"{i}*{j}={i*j}\")\n",
        "    break"
      ],
      "metadata": {
        "id": "R53bd8CWrloh"
      },
      "execution_count": null,
      "outputs": []
    },
    {
      "cell_type": "markdown",
      "source": [
        "##파이썬의 내장함수 & 외장함수"
      ],
      "metadata": {
        "id": "Yt1EVbmDsodY"
      }
    },
    {
      "cell_type": "code",
      "source": [
        "#내장함수: 파이썬에 기본적으로 포함이 되어있는 함수\n",
        "int('123')\n",
        "str()\n",
        "len('hello') #length\n",
        "#구글에 python built in functions 쳐서 내장함수 확인하기\n",
        "\n",
        "#외장함수: 외부에서 불러와서 사용하는 함수 => import\n",
        "\n",
        "import sys\n",
        "if sys.version < 3.10: #업데이트 버전\n",
        "  print('업데이트를 진행하세요.')\n",
        "import os #os: operation system\n",
        "os.getcwd()\n",
        "os.mkdir('new_folder')"
      ],
      "metadata": {
        "id": "8IXop8KMssBO"
      },
      "execution_count": null,
      "outputs": []
    },
    {
      "cell_type": "code",
      "source": [
        "import time\n",
        "time.time() #1701070656.8930387\n",
        "time.localtime(time.time()) #콜랩의 서버시간 = 미국"
      ],
      "metadata": {
        "id": "7qargZhqthy1",
        "outputId": "13a8a99c-b219-4b65-bd5e-2880f556a90f",
        "colab": {
          "base_uri": "https://localhost:8080/"
        }
      },
      "execution_count": 36,
      "outputs": [
        {
          "output_type": "execute_result",
          "data": {
            "text/plain": [
              "time.struct_time(tm_year=2023, tm_mon=11, tm_mday=27, tm_hour=7, tm_min=38, tm_sec=9, tm_wday=0, tm_yday=331, tm_isdst=0)"
            ]
          },
          "metadata": {},
          "execution_count": 36
        }
      ]
    }
  ]
}